{
 "metadata": {
  "language_info": {
   "codemirror_mode": {
    "name": "ipython",
    "version": 3
   },
   "file_extension": ".py",
   "mimetype": "text/x-python",
   "name": "python",
   "nbconvert_exporter": "python",
   "pygments_lexer": "ipython3",
   "version": "3.9.2-final"
  },
  "orig_nbformat": 2,
  "kernelspec": {
   "name": "python3",
   "display_name": "Python 3.9.2 64-bit ('stocks': conda)",
   "metadata": {
    "interpreter": {
     "hash": "4c99be90002fd4bf8c36b176323aa2c79f406f4cb8f6cf27f13734bf068c6082"
    }
   }
  }
 },
 "nbformat": 4,
 "nbformat_minor": 2,
 "cells": [
  {
   "cell_type": "code",
   "execution_count": 178,
   "metadata": {},
   "outputs": [
    {
     "output_type": "execute_result",
     "data": {
      "text/plain": [
       "<module 'stocks' from '/home/joseph/InterestingStocks.com/stocks.py'>"
      ]
     },
     "metadata": {},
     "execution_count": 178
    }
   ],
   "source": [
    "import pandas as pd\n",
    "import json\n",
    "import stocks\n",
    "from stocks import Stock\n",
    "import importlib\n",
    "importlib.reload(stocks) # every run"
   ]
  },
  {
   "cell_type": "code",
   "execution_count": 179,
   "metadata": {},
   "outputs": [],
   "source": [
    "testStocks = ['KSS','FL','DAL','CCL','MO','PFG','T','TPR','WFC','WLKP']"
   ]
  },
  {
   "cell_type": "code",
   "execution_count": 180,
   "metadata": {},
   "outputs": [],
   "source": [
    "def main(ticker):\n",
    "    with open(f'./data/{ticker}.json') as file:\n",
    "        funds=json.load(file)\n",
    "    eod = pd.read_csv(f'./EOD/{ticker}.csv', skipfooter=1, parse_dates=['Date'], index_col=False, engine='python')\n",
    "    return Stock(ticker=ticker,funds=funds,eod=eod)"
   ]
  },
  {
   "cell_type": "code",
   "execution_count": 181,
   "metadata": {},
   "outputs": [
    {
     "output_type": "stream",
     "name": "stdout",
     "text": [
      "2020-12-31\n"
     ]
    }
   ],
   "source": [
    "print(stocks.get_last_quarter(dtype='date'))"
   ]
  },
  {
   "cell_type": "code",
   "execution_count": 182,
   "metadata": {},
   "outputs": [
    {
     "output_type": "stream",
     "name": "stdout",
     "text": [
      "                      date  epsActual\nFiscal Quarter                       \n2021-03-31      2021-02-28     1.9900\n2020-03-31      2020-02-29    -0.1843\n2019-03-31      2019-02-28     3.3500\n2018-03-31      2018-02-28     4.4500\n2017-03-31      2017-02-28     3.8500\n2016-03-31      2016-02-29     3.7100\n2015-03-31      2015-02-28     4.2900\n2014-03-31      2014-02-28     4.0100\n2013-03-31      2013-02-28     4.2300\n2012-03-31      2012-02-29     4.3300\n2011-03-31      2011-02-28     3.8600\n2010-03-31      2010-02-28     3.4200\n2009-03-31      2009-02-28     2.8400\n2008-03-31      2008-02-29     3.2400\n2007-03-31      2007-02-28     4.3300\n2006-03-31      2006-02-28     2.5500\n2005-03-31      2005-02-28     2.1700\n2004-03-31      2004-02-29     1.7300\n2003-03-31      2003-02-28     1.5600\n2002-03-31      2002-02-28     1.2200\n2001-03-31      2001-02-28     1.4680\n2000-03-31      2000-02-29     1.0198\n1999-03-31      1999-02-28     0.8282\n1998-03-31      1998-02-28     0.4100\n1997-03-31      1997-02-28     0.3100\n1996-03-31      1996-02-29     0.0500\n"
     ]
    }
   ],
   "source": [
    "testStock = main('KSS')\n",
    "mainYr = testStock.mainYr.head(10)\n",
    "balanceYr = testStock.balanceYr.head(10)\n",
    "sharesYr = testStock.sharesYr.head(10)"
   ]
  },
  {
   "cell_type": "code",
   "execution_count": null,
   "metadata": {},
   "outputs": [],
   "source": []
  },
  {
   "cell_type": "code",
   "execution_count": null,
   "metadata": {},
   "outputs": [],
   "source": []
  }
 ]
}